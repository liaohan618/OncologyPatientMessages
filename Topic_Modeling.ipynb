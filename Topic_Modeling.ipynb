{
 "cells": [
  {
   "cell_type": "markdown",
   "id": "17a2eef5",
   "metadata": {},
   "source": []
  },
  {
   "cell_type": "code",
   "execution_count": null,
   "id": "0d003f07",
   "metadata": {},
   "outputs": [],
   "source": [
    "# basic imports\n",
    "import pandas as pd\n",
    "\n",
    "# preprocessing\n",
    "import nltk\n",
    "from nltk.corpus import stopwords\n",
    "from nltk.stem import WordNetLemmatizer\n",
    "import re\n",
    "\n",
    "# vectorization\n",
    "from sklearn.feature_extraction.text import CountVectorizer\n",
    "\n",
    "# topic model\n",
    "from bertopic import BERTopic"
   ]
  },
  {
   "cell_type": "markdown",
   "id": "22dbab5a",
   "metadata": {},
   "source": [
    "# Data Loading"
   ]
  },
  {
   "cell_type": "code",
   "execution_count": 5,
   "id": "c23c79a2",
   "metadata": {},
   "outputs": [
    {
     "data": {
      "text/html": [
       "<div>\n",
       "<style scoped>\n",
       "    .dataframe tbody tr th:only-of-type {\n",
       "        vertical-align: middle;\n",
       "    }\n",
       "\n",
       "    .dataframe tbody tr th {\n",
       "        vertical-align: top;\n",
       "    }\n",
       "\n",
       "    .dataframe thead th {\n",
       "        text-align: right;\n",
       "    }\n",
       "</style>\n",
       "<table border=\"1\" class=\"dataframe\">\n",
       "  <thead>\n",
       "    <tr style=\"text-align: right;\">\n",
       "      <th></th>\n",
       "      <th>cancer</th>\n",
       "      <th>Comment</th>\n",
       "      <th>tokens</th>\n",
       "      <th>stopwordremove_tokens</th>\n",
       "      <th>lemmatized_text</th>\n",
       "      <th>none</th>\n",
       "    </tr>\n",
       "  </thead>\n",
       "  <tbody>\n",
       "    <tr>\n",
       "      <th>0</th>\n",
       "      <td>breast cancer</td>\n",
       "      <td>tiredness got better edema ankle several year ...</td>\n",
       "      <td>['tiredness', 'that', 'got', 'better', 'edema'...</td>\n",
       "      <td>['tiredness', 'got', 'better', 'edema', 'ankle...</td>\n",
       "      <td>['tiredness', 'got', 'better', 'edema', 'ankle...</td>\n",
       "      <td>NaN</td>\n",
       "    </tr>\n",
       "    <tr>\n",
       "      <th>1</th>\n",
       "      <td>none</td>\n",
       "      <td>one people could take attack body along cancer...</td>\n",
       "      <td>['one', 'people', 'could', 'take', 'attack', '...</td>\n",
       "      <td>['one', 'people', 'could', 'take', 'attack', '...</td>\n",
       "      <td>['one', 'people', 'could', 'take', 'attack', '...</td>\n",
       "      <td>NaN</td>\n",
       "    </tr>\n",
       "    <tr>\n",
       "      <th>2</th>\n",
       "      <td>none</td>\n",
       "      <td>take month week mg lymphedema arm get infect a...</td>\n",
       "      <td>['take', 'month', 'week', 'mg', 'lymphedema', ...</td>\n",
       "      <td>['take', 'month', 'week', 'mg', 'lymphedema', ...</td>\n",
       "      <td>['take', 'month', 'week', 'mg', 'lymphedema', ...</td>\n",
       "      <td>NaN</td>\n",
       "    </tr>\n",
       "    <tr>\n",
       "      <th>3</th>\n",
       "      <td>none</td>\n",
       "      <td>stage lymph bone bone metastasis never infusio...</td>\n",
       "      <td>['stage', 'lymph', 'bone', 'bone', 'metastasis...</td>\n",
       "      <td>['stage', 'lymph', 'bone', 'bone', 'metastasis...</td>\n",
       "      <td>['stage', 'lymph', 'bone', 'bone', 'metastasis...</td>\n",
       "      <td>NaN</td>\n",
       "    </tr>\n",
       "    <tr>\n",
       "      <th>4</th>\n",
       "      <td>none</td>\n",
       "      <td>although medication effectively treat cancer s...</td>\n",
       "      <td>['although', 'medication', 'effectively', 'tre...</td>\n",
       "      <td>['although', 'medication', 'effectively', 'tre...</td>\n",
       "      <td>['although', 'medication', 'effectively', 'tre...</td>\n",
       "      <td>NaN</td>\n",
       "    </tr>\n",
       "  </tbody>\n",
       "</table>\n",
       "</div>"
      ],
      "text/plain": [
       "          cancer                                            Comment  \\\n",
       "0  breast cancer  tiredness got better edema ankle several year ...   \n",
       "1           none  one people could take attack body along cancer...   \n",
       "2           none  take month week mg lymphedema arm get infect a...   \n",
       "3           none  stage lymph bone bone metastasis never infusio...   \n",
       "4           none  although medication effectively treat cancer s...   \n",
       "\n",
       "                                              tokens  \\\n",
       "0  ['tiredness', 'that', 'got', 'better', 'edema'...   \n",
       "1  ['one', 'people', 'could', 'take', 'attack', '...   \n",
       "2  ['take', 'month', 'week', 'mg', 'lymphedema', ...   \n",
       "3  ['stage', 'lymph', 'bone', 'bone', 'metastasis...   \n",
       "4  ['although', 'medication', 'effectively', 'tre...   \n",
       "\n",
       "                               stopwordremove_tokens  \\\n",
       "0  ['tiredness', 'got', 'better', 'edema', 'ankle...   \n",
       "1  ['one', 'people', 'could', 'take', 'attack', '...   \n",
       "2  ['take', 'month', 'week', 'mg', 'lymphedema', ...   \n",
       "3  ['stage', 'lymph', 'bone', 'bone', 'metastasis...   \n",
       "4  ['although', 'medication', 'effectively', 'tre...   \n",
       "\n",
       "                                     lemmatized_text none  \n",
       "0  ['tiredness', 'got', 'better', 'edema', 'ankle...  NaN  \n",
       "1  ['one', 'people', 'could', 'take', 'attack', '...  NaN  \n",
       "2  ['take', 'month', 'week', 'mg', 'lymphedema', ...  NaN  \n",
       "3  ['stage', 'lymph', 'bone', 'bone', 'metastasis...  NaN  \n",
       "4  ['although', 'medication', 'effectively', 'tre...  NaN  "
      ]
     },
     "execution_count": 5,
     "metadata": {},
     "output_type": "execute_result"
    }
   ],
   "source": [
    "df = pd.read_csv(\"Dataset/oncology.csv\",\n",
    "                 sep = ';') # separator\n",
    "df.head()"
   ]
  },
  {
   "cell_type": "code",
   "execution_count": 6,
   "id": "6fe712c3",
   "metadata": {},
   "outputs": [
    {
     "data": {
      "text/plain": [
       "(14419, 6)"
      ]
     },
     "execution_count": 6,
     "metadata": {},
     "output_type": "execute_result"
    }
   ],
   "source": [
    "# dimensions\n",
    "df.shape"
   ]
  },
  {
   "cell_type": "code",
   "execution_count": 7,
   "id": "415cb5be",
   "metadata": {},
   "outputs": [
    {
     "data": {
      "text/plain": [
       "'tiredness got better edema ankle several year hair thinningjoint pain year afinitor doctor said consider going drug cause high blood sugar high cholesterol neither opted go month monthly hormone injection cancer still stable'"
      ]
     },
     "execution_count": 7,
     "metadata": {},
     "output_type": "execute_result"
    }
   ],
   "source": [
    "# only extract patient messages\n",
    "msgs = df['Comment'].tolist()\n",
    "msgs[0]"
   ]
  },
  {
   "cell_type": "markdown",
   "id": "673f302c",
   "metadata": {},
   "source": [
    "# Preprocessing"
   ]
  },
  {
   "cell_type": "code",
   "execution_count": null,
   "id": "43cde199",
   "metadata": {},
   "outputs": [],
   "source": [
    "# tokenize\n",
    "\n",
    "\n",
    "#  \n"
   ]
  },
  {
   "cell_type": "code",
   "execution_count": null,
   "id": "17a391a2",
   "metadata": {},
   "outputs": [],
   "source": [
    "topic_model = BERTopic()\n",
    "topics, probs = topic_model.fit_transform(msgs)\n"
   ]
  },
  {
   "cell_type": "markdown",
   "id": "3918f162",
   "metadata": {},
   "source": [
    "# Topic Modeling\n",
    "\n",
    "Chosen Topic Model: BERTopic"
   ]
  },
  {
   "cell_type": "code",
   "execution_count": 9,
   "id": "ce9e3593",
   "metadata": {},
   "outputs": [],
   "source": [
    "# "
   ]
  }
 ],
 "metadata": {
  "kernelspec": {
   "display_name": "Python 3",
   "language": "python",
   "name": "python3"
  },
  "language_info": {
   "codemirror_mode": {
    "name": "ipython",
    "version": 3
   },
   "file_extension": ".py",
   "mimetype": "text/x-python",
   "name": "python",
   "nbconvert_exporter": "python",
   "pygments_lexer": "ipython3",
   "version": "3.11.2"
  }
 },
 "nbformat": 4,
 "nbformat_minor": 5
}
